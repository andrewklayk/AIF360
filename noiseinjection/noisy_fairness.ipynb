{
 "cells": [
  {
   "cell_type": "code",
   "execution_count": 2,
   "metadata": {},
   "outputs": [],
   "source": [
    "from aif360.algorithms.postprocessing import DeterministicReranking\n",
    "from aif360.datasets import LawSchoolGPADataset\n",
    "import pandas as pd\n",
    "\n",
    "import tempfile\n",
    "import requests\n",
    "import zipfile\n",
    "import os \n",
    "\n",
    "with tempfile.TemporaryDirectory() as temp_dir:\n",
    "    response = requests.get(\"http://www.seaphe.org/databases/LSAC/LSAC_SAS.zip\")\n",
    "    temp_file_name = os.path.join(temp_dir, \"LSAC_SAS.zip\")\n",
    "    with open(temp_file_name, \"wb\") as temp_file:\n",
    "        temp_file.write(response.content)\n",
    "    with zipfile.ZipFile(temp_file_name, 'r') as zip_ref:\n",
    "        zip_ref.extractall(temp_dir)\n",
    "    data = pd.read_sas(os.path.join(temp_dir, \"lsac.sas7bdat\"))\n",
    "    data = data.assign(gender=(data[\"gender\"] == b\"male\") * 1)\n",
    "    data['race'] = data['race1']\n",
    "    data = data[['race', 'gender', 'lsat', 'ugpa', 'zfygpa']]"
   ]
  },
  {
   "cell_type": "code",
   "execution_count": 3,
   "metadata": {},
   "outputs": [
    {
     "name": "stderr",
     "output_type": "stream",
     "text": [
      "WARNING:root:Missing Data: 2495 rows removed from RegressionDataset.\n"
     ]
    }
   ],
   "source": [
    "from aif360.datasets import RegressionDataset\n",
    "dataset = RegressionDataset(data, dep_var_name='zfygpa', protected_attribute_names=['race'], privileged_classes=[[b'white']])"
   ]
  },
  {
   "cell_type": "code",
   "execution_count": 8,
   "metadata": {},
   "outputs": [
    {
     "data": {
      "text/plain": [
       "array([ 0.30471708, -1.03998411,  0.7504512 ,  0.94056472, -1.95103519,\n",
       "       -1.30217951,  0.1278404 , -0.31624259, -0.01680116, -0.85304393])"
      ]
     },
     "execution_count": 8,
     "metadata": {},
     "output_type": "execute_result"
    }
   ],
   "source": [
    "import numpy as np\n",
    "rng = np.random.default_rng(seed=42)\n",
    "rng.normal(loc=0, scale=1, size=10)\n",
    "\n",
    "# add noise with scale as % of variance of dataset"
   ]
  }
 ],
 "metadata": {
  "kernelspec": {
   "display_name": "aif",
   "language": "python",
   "name": "python3"
  },
  "language_info": {
   "codemirror_mode": {
    "name": "ipython",
    "version": 3
   },
   "file_extension": ".py",
   "mimetype": "text/x-python",
   "name": "python",
   "nbconvert_exporter": "python",
   "pygments_lexer": "ipython3",
   "version": "3.10.12"
  },
  "orig_nbformat": 4
 },
 "nbformat": 4,
 "nbformat_minor": 2
}
